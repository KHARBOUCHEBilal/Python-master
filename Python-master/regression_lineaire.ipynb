{
 "cells": [
  {
   "cell_type": "markdown",
   "metadata": {},
   "source": [
    "# Regression Lineaire numpy"
   ]
  },
  {
   "cell_type": "code",
   "execution_count": 1,
   "metadata": {},
   "outputs": [],
   "source": [
    "import numpy as np\n",
    "from sklearn.datasets import make_regression\n",
    "import matplotlib.pyplot as plt"
   ]
  },
  {
   "cell_type": "markdown",
   "metadata": {},
   "source": [
    "# 1 Etape data set "
   ]
  },
  {
   "cell_type": "code",
   "execution_count": 2,
   "metadata": {},
   "outputs": [
    {
     "data": {
      "text/plain": [
       "<matplotlib.collections.PathCollection at 0x224e8602720>"
      ]
     },
     "execution_count": 2,
     "metadata": {},
     "output_type": "execute_result"
    },
    {
     "data": {
      "image/png": "[encoded data removed]",
      "text/plain": [
       "<Figure size 640x480 with 1 Axes>"
      ]
     },
     "metadata": {},
     "output_type": "display_data"
    }
   ],
   "source": [
    "x, y = make_regression(n_samples=100, n_features=1, noise=10 ,random_state=42)\n",
    "plt.scatter(x, y)"
   ]
  },
  {
   "cell_type": "code",
   "execution_count": 3,
   "metadata": {},
   "outputs": [
    {
     "data": {
      "text/plain": [
       "(100, 1)"
      ]
     },
     "execution_count": 3,
     "metadata": {},
     "output_type": "execute_result"
    }
   ],
   "source": [
    "y = y.reshape(y.shape[0], 1)\n",
    "y.shape"
   ]
  },
  {
   "cell_type": "code",
   "execution_count": 4,
   "metadata": {},
   "outputs": [
    {
     "name": "stdout",
     "output_type": "stream",
     "text": [
      "[[ 0.93128012  1.        ]\n",
      " [ 0.08704707  1.        ]\n",
      " [-1.05771093  1.        ]\n",
      " [ 0.31424733  1.        ]\n",
      " [-0.47917424  1.        ]\n",
      " [ 0.64768854  1.        ]\n",
      " [-0.46341769  1.        ]\n",
      " [ 0.54256004  1.        ]\n",
      " [ 0.61167629  1.        ]\n",
      " [ 1.0035329   1.        ]\n",
      " [ 0.8219025   1.        ]\n",
      " [ 1.53803657  1.        ]\n",
      " [ 0.73846658  1.        ]\n",
      " [-0.21967189  1.        ]\n",
      " [-0.8084936   1.        ]\n",
      " [ 0.09176078  1.        ]\n",
      " [-1.95967012  1.        ]\n",
      " [ 0.51326743  1.        ]\n",
      " [ 1.03099952  1.        ]\n",
      " [-2.6197451   1.        ]\n",
      " [ 0.49671415  1.        ]\n",
      " [ 0.09707755  1.        ]\n",
      " [-0.46572975  1.        ]\n",
      " [ 0.91540212  1.        ]\n",
      " [ 1.56464366  1.        ]\n",
      " [ 1.46564877  1.        ]\n",
      " [-0.60063869  1.        ]\n",
      " [-0.03582604  1.        ]\n",
      " [-0.60170661  1.        ]\n",
      " [-1.19620662  1.        ]\n",
      " [ 0.35711257  1.        ]\n",
      " [ 0.37569802  1.        ]\n",
      " [ 0.26105527  1.        ]\n",
      " [-0.5297602   1.        ]\n",
      " [-0.90802408  1.        ]\n",
      " [ 0.19686124  1.        ]\n",
      " [-0.29900735  1.        ]\n",
      " [ 0.36163603  1.        ]\n",
      " [ 0.82254491  1.        ]\n",
      " [-0.29169375  1.        ]\n",
      " [ 0.36139561  1.        ]\n",
      " [-0.676922    1.        ]\n",
      " [ 1.52302986  1.        ]\n",
      " [-0.51827022  1.        ]\n",
      " [-0.23415337  1.        ]\n",
      " [-0.39210815  1.        ]\n",
      " [-0.3011037   1.        ]\n",
      " [-0.64511975  1.        ]\n",
      " [ 0.32875111  1.        ]\n",
      " [ 0.2088636   1.        ]\n",
      " [-0.32766215  1.        ]\n",
      " [ 0.00511346  1.        ]\n",
      " [-0.23413696  1.        ]\n",
      " [ 1.47789404  1.        ]\n",
      " [-0.38508228  1.        ]\n",
      " [ 0.34361829  1.        ]\n",
      " [ 0.33126343  1.        ]\n",
      " [-0.18565898  1.        ]\n",
      " [-0.23458713  1.        ]\n",
      " [-1.98756891  1.        ]\n",
      " [ 0.32408397  1.        ]\n",
      " [-0.2257763   1.        ]\n",
      " [-1.10633497  1.        ]\n",
      " [-0.70205309  1.        ]\n",
      " [-1.46351495  1.        ]\n",
      " [ 0.96864499  1.        ]\n",
      " [-1.72491783  1.        ]\n",
      " [-1.91328024  1.        ]\n",
      " [-0.56228753  1.        ]\n",
      " [ 0.76743473  1.        ]\n",
      " [ 0.81252582  1.        ]\n",
      " [-1.4123037   1.        ]\n",
      " [-1.47852199  1.        ]\n",
      " [-1.22084365  1.        ]\n",
      " [-0.83921752  1.        ]\n",
      " [ 1.57921282  1.        ]\n",
      " [ 0.97554513  1.        ]\n",
      " [ 0.24196227  1.        ]\n",
      " [ 0.29612028  1.        ]\n",
      " [-0.54438272  1.        ]\n",
      " [-1.76304016  1.        ]\n",
      " [ 0.11092259  1.        ]\n",
      " [ 0.17136828  1.        ]\n",
      " [-1.32818605  1.        ]\n",
      " [ 1.05712223  1.        ]\n",
      " [-0.11564828  1.        ]\n",
      " [-0.46947439  1.        ]\n",
      " [-0.01349722  1.        ]\n",
      " [-1.01283112  1.        ]\n",
      " [-0.1382643   1.        ]\n",
      " [-1.15099358  1.        ]\n",
      " [ 1.35624003  1.        ]\n",
      " [ 0.0675282   1.        ]\n",
      " [-0.50175704  1.        ]\n",
      " [-0.46063877  1.        ]\n",
      " [ 1.85227818  1.        ]\n",
      " [-1.42474819  1.        ]\n",
      " [-0.71984421  1.        ]\n",
      " [-0.07201012  1.        ]\n",
      " [-0.30921238  1.        ]]\n"
     ]
    }
   ],
   "source": [
    "X = np.concatenate((x, np.ones(x.shape)), axis=1)\n",
    "#X = np.hstack((x, np.ones(x.shape)))\n",
    "print(X)"
   ]
  },
  {
   "cell_type": "code",
   "execution_count": 5,
   "metadata": {},
   "outputs": [
    {
     "data": {
      "text/plain": [
       "array([[-0.23643882],\n",
       "       [-2.6652922 ]])"
      ]
     },
     "execution_count": 5,
     "metadata": {},
     "output_type": "execute_result"
    }
   ],
   "source": [
    "theta = np.random.randn(2, 1)\n",
    "theta"
   ]
  },
  {
   "cell_type": "markdown",
   "metadata": {},
   "source": [
    "# 2 Modele"
   ]
  },
  {
   "cell_type": "code",
   "execution_count": 6,
   "metadata": {},
   "outputs": [],
   "source": [
    "def model(X, theta):\n",
    "    return X.dot(theta)"
   ]
  },
  {
   "cell_type": "code",
   "execution_count": 7,
   "metadata": {},
   "outputs": [
    {
     "name": "stdout",
     "output_type": "stream",
     "text": [
      "[[-2.88548297]\n",
      " [-2.68587351]\n",
      " [-2.41520828]\n",
      " [-2.73959247]\n",
      " [-2.55199681]\n",
      " [-2.81843091]\n",
      " [-2.55572227]\n",
      " [-2.79357445]\n",
      " [-2.80991622]\n",
      " [-2.90256633]\n",
      " [-2.85962185]\n",
      " [-3.02894374]\n",
      " [-2.83989436]\n",
      " [-2.61335324]\n",
      " [-2.47413293]\n",
      " [-2.68698801]\n",
      " [-2.20195012]\n",
      " [-2.78664854]\n",
      " [-2.9090605 ]\n",
      " [-2.04588277]\n",
      " [-2.78273471]\n",
      " [-2.6882451 ]\n",
      " [-2.55517561]\n",
      " [-2.88172879]\n",
      " [-3.03523469]\n",
      " [-3.01182846]\n",
      " [-2.5232779 ]\n",
      " [-2.65682153]\n",
      " [-2.5230254 ]\n",
      " [-2.38246252]\n",
      " [-2.74972747]\n",
      " [-2.75412179]\n",
      " [-2.7270158 ]\n",
      " [-2.54003632]\n",
      " [-2.45060006]\n",
      " [-2.71183784]\n",
      " [-2.59459526]\n",
      " [-2.75079699]\n",
      " [-2.85977374]\n",
      " [-2.59632447]\n",
      " [-2.75074015]\n",
      " [-2.50524156]\n",
      " [-3.02539557]\n",
      " [-2.542753  ]\n",
      " [-2.60992925]\n",
      " [-2.57258261]\n",
      " [-2.5940996 ]\n",
      " [-2.51276085]\n",
      " [-2.74302172]\n",
      " [-2.71467566]\n",
      " [-2.58782015]\n",
      " [-2.66650122]\n",
      " [-2.60993313]\n",
      " [-3.01472372]\n",
      " [-2.5742438 ]\n",
      " [-2.7465369 ]\n",
      " [-2.74361573]\n",
      " [-2.62139521]\n",
      " [-2.6098267 ]\n",
      " [-2.19535376]\n",
      " [-2.74191823]\n",
      " [-2.61190992]\n",
      " [-2.40371167]\n",
      " [-2.4992996 ]\n",
      " [-2.31926046]\n",
      " [-2.89431747]\n",
      " [-2.25745467]\n",
      " [-2.21291849]\n",
      " [-2.5323456 ]\n",
      " [-2.84674356]\n",
      " [-2.85740484]\n",
      " [-2.33136879]\n",
      " [-2.31571221]\n",
      " [-2.37663737]\n",
      " [-2.4668686 ]\n",
      " [-3.03867941]\n",
      " [-2.89594893]\n",
      " [-2.72250147]\n",
      " [-2.73530653]\n",
      " [-2.53657899]\n",
      " [-2.24844107]\n",
      " [-2.69151861]\n",
      " [-2.70581031]\n",
      " [-2.35125746]\n",
      " [-2.91523693]\n",
      " [-2.63794846]\n",
      " [-2.55429023]\n",
      " [-2.66210093]\n",
      " [-2.42581961]\n",
      " [-2.63260115]\n",
      " [-2.39315264]\n",
      " [-2.98595998]\n",
      " [-2.68125849]\n",
      " [-2.54665736]\n",
      " [-2.55637931]\n",
      " [-3.10324266]\n",
      " [-2.32842643]\n",
      " [-2.49509309]\n",
      " [-2.64826621]\n",
      " [-2.59218239]]\n"
     ]
    },
    {
     "data": {
      "text/plain": [
       "[<matplotlib.lines.Line2D at 0x224e8efa270>]"
      ]
     },
     "execution_count": 7,
     "metadata": {},
     "output_type": "execute_result"
    },
    {
     "data": {
      "image/png": "[encoded data removed]",
      "text/plain": [
       "<Figure size 640x480 with 1 Axes>"
      ]
     },
     "metadata": {},
     "output_type": "display_data"
    }
   ],
   "source": [
    "F = model(X, theta)\n",
    "print(F)\n",
    "plt.scatter(x, y)\n",
    "plt.plot(x, F, c='r')"
   ]
  },
  {
   "cell_type": "markdown",
   "metadata": {},
   "source": [
    "# 3 Fonction cout"
   ]
  },
  {
   "cell_type": "code",
   "execution_count": 8,
   "metadata": {},
   "outputs": [],
   "source": [
    "def cost_function(X, y, theta):\n",
    "    m = len(y)\n",
    "    return 1/2 * m * np.sum((model(X, theta) - y)**2)"
   ]
  },
  {
   "cell_type": "code",
   "execution_count": 9,
   "metadata": {},
   "outputs": [
    {
     "data": {
      "text/plain": [
       "8541336.570838027"
      ]
     },
     "execution_count": 9,
     "metadata": {},
     "output_type": "execute_result"
    }
   ],
   "source": [
    "cost_function(X, y, theta)"
   ]
  },
  {
   "cell_type": "markdown",
   "metadata": {},
   "source": [
    "# 4 Gradients et Descente de Gradient"
   ]
  },
  {
   "cell_type": "code",
   "execution_count": 10,
   "metadata": {},
   "outputs": [],
   "source": [
    "def grad(X, y, theta):\n",
    "    m = len(y)\n",
    "    return (1/m) * (X.T.dot(model(X, theta) - y))"
   ]
  },
  {
   "cell_type": "code",
   "execution_count": 11,
   "metadata": {},
   "outputs": [
    {
     "data": {
      "text/plain": [
       "array([[-36.56098325],\n",
       "       [  0.80879117]])"
      ]
     },
     "execution_count": 11,
     "metadata": {},
     "output_type": "execute_result"
    }
   ],
   "source": [
    "grad(X, y, theta)"
   ]
  },
  {
   "cell_type": "code",
   "execution_count": 12,
   "metadata": {},
   "outputs": [],
   "source": [
    "def gradient_descente(X, y, theta, learning_rate = 0.01, n_iter=1000):\n",
    "    cost_history = np.zeros(n_iter)\n",
    "    for i in range(0, n_iter):\n",
    "        theta = theta - learning_rate * grad(X, y, theta)\n",
    "        cost_history[i] = cost_function(X, y, theta)\n",
    "        \n",
    "    return theta, cost_history"
   ]
  },
  {
   "cell_type": "markdown",
   "metadata": {},
   "source": [
    "# 5 ML"
   ]
  },
  {
   "cell_type": "code",
   "execution_count": 13,
   "metadata": {},
   "outputs": [],
   "source": [
    "theta_finale, cost_history = gradient_descente(X, y, theta, learning_rate=0.01, n_iter=750)"
   ]
  },
  {
   "cell_type": "code",
   "execution_count": 14,
   "metadata": {},
   "outputs": [
    {
     "data": {
      "text/plain": [
       "array([[44.32639454],\n",
       "       [ 1.11946219]])"
      ]
     },
     "execution_count": 14,
     "metadata": {},
     "output_type": "execute_result"
    }
   ],
   "source": [
    "theta_finale"
   ]
  },
  {
   "cell_type": "code",
   "execution_count": 15,
   "metadata": {},
   "outputs": [
    {
     "data": {
      "text/plain": [
       "[<matplotlib.lines.Line2D at 0x224e8678350>]"
      ]
     },
     "execution_count": 15,
     "metadata": {},
     "output_type": "execute_result"
    },
    {
     "data": {
      "image/png": "[encoded data removed]",
      "text/plain": [
       "<Figure size 640x480 with 1 Axes>"
      ]
     },
     "metadata": {},
     "output_type": "display_data"
    }
   ],
   "source": [
    "plt.scatter(x, y)\n",
    "plt.plot(x, model(X, theta), c='r')\n",
    "plt.plot(x, model(X, theta_finale), c='g', lw=2)"
   ]
  },
  {
   "cell_type": "code",
   "execution_count": 16,
   "metadata": {},
   "outputs": [
    {
     "data": {
      "text/plain": [
       "[<matplotlib.lines.Line2D at 0x224e8f2a600>]"
      ]
     },
     "execution_count": 16,
     "metadata": {},
     "output_type": "execute_result"
    },
    {
     "data": {
      "image/png": "[encoded data removed]",
      "text/plain": [
       "<Figure size 640x480 with 1 Axes>"
      ]
     },
     "metadata": {},
     "output_type": "display_data"
    }
   ],
   "source": [
    "plt.plot(range(750),cost_history)"
   ]
  },
  {
   "cell_type": "code",
   "execution_count": 17,
   "metadata": {},
   "outputs": [],
   "source": [
    "def coef_determination(y, pred):\n",
    "    u = ((y - pred) ** 2).sum()\n",
    "    v = ((y - y.mean()) ** 2).sum()\n",
    "    return 1 - u/v"
   ]
  },
  {
   "cell_type": "code",
   "execution_count": 18,
   "metadata": {},
   "outputs": [
    {
     "name": "stdout",
     "output_type": "stream",
     "text": [
      "0.9538186286943713\n"
     ]
    }
   ],
   "source": [
    "prediction = model(X, theta_finale)\n",
    "print(coef_determination(y, prediction))"
   ]
  }
 ],
 "metadata": {
  "kernelspec": {
   "display_name": "base",
   "language": "python",
   "name": "python3"
  },
  "language_info": {
   "codemirror_mode": {
    "name": "ipython",
    "version": 3
   },
   "file_extension": ".py",
   "mimetype": "text/x-python",
   "name": "python",
   "nbconvert_exporter": "python",
   "pygments_lexer": "ipython3",
   "version": "3.12.7"
  }
 },
 "nbformat": 4,
 "nbformat_minor": 2
}
