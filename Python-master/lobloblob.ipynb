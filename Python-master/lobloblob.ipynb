{
 "cells": [
  {
   "cell_type": "code",
   "execution_count": 1,
   "metadata": {},
   "outputs": [],
   "source": [
    "import numpy as np\n",
    "from sklearn.datasets import make_regression\n",
    "import matplotlib.pyplot as plt\n"
   ]
  },
  {
   "cell_type": "code",
   "execution_count": 2,
   "metadata": {},
   "outputs": [],
   "source": [
    "x, y = make_regression(n_features=2, n_samples=100, noise=10)"
   ]
  },
  {
   "cell_type": "code",
   "execution_count": 3,
   "metadata": {},
   "outputs": [
    {
     "name": "stdout",
     "output_type": "stream",
     "text": [
      "(100, 2)\n",
      "(100,)\n"
     ]
    }
   ],
   "source": [
    "print(x.shape)\n",
    "print(y.shape)"
   ]
  },
  {
   "cell_type": "code",
   "execution_count": 4,
   "metadata": {},
   "outputs": [
    {
     "data": {
      "text/plain": [
       "<matplotlib.collections.PathCollection at 0x29f48148b90>"
      ]
     },
     "execution_count": 4,
     "metadata": {},
     "output_type": "execute_result"
    },
    {
     "data": {
      "image/png": "[encoded data removed]",
      "text/plain": [
       "<Figure size 640x480 with 1 Axes>"
      ]
     },
     "metadata": {},
     "output_type": "display_data"
    }
   ],
   "source": [
    "plt.scatter(x[:,1], y)"
   ]
  },
  {
   "cell_type": "code",
   "execution_count": 5,
   "metadata": {},
   "outputs": [
    {
     "data": {
      "text/plain": [
       "(100, 1)"
      ]
     },
     "execution_count": 5,
     "metadata": {},
     "output_type": "execute_result"
    }
   ],
   "source": [
    "y = y.reshape(y.shape[0], 1)\n",
    "y.shape"
   ]
  },
  {
   "cell_type": "code",
   "execution_count": 6,
   "metadata": {},
   "outputs": [
    {
     "name": "stdout",
     "output_type": "stream",
     "text": [
      "[[ 2.18188067]\n",
      " [ 1.25583789]\n",
      " [-0.19738063]]\n"
     ]
    }
   ],
   "source": [
    "theta = np.random.randn(3, 1)\n",
    "print(theta)"
   ]
  },
  {
   "cell_type": "code",
   "execution_count": 7,
   "metadata": {},
   "outputs": [],
   "source": [
    "def model(X, theta):\n",
    "    return X.dot(theta) # F = X.theta"
   ]
  },
  {
   "cell_type": "code",
   "execution_count": 8,
   "metadata": {},
   "outputs": [
    {
     "data": {
      "text/plain": [
       "array([[1.],\n",
       "       [1.],\n",
       "       [1.],\n",
       "       [1.],\n",
       "       [1.],\n",
       "       [1.],\n",
       "       [1.],\n",
       "       [1.],\n",
       "       [1.],\n",
       "       [1.],\n",
       "       [1.],\n",
       "       [1.],\n",
       "       [1.],\n",
       "       [1.],\n",
       "       [1.],\n",
       "       [1.],\n",
       "       [1.],\n",
       "       [1.],\n",
       "       [1.],\n",
       "       [1.],\n",
       "       [1.],\n",
       "       [1.],\n",
       "       [1.],\n",
       "       [1.],\n",
       "       [1.],\n",
       "       [1.],\n",
       "       [1.],\n",
       "       [1.],\n",
       "       [1.],\n",
       "       [1.],\n",
       "       [1.],\n",
       "       [1.],\n",
       "       [1.],\n",
       "       [1.],\n",
       "       [1.],\n",
       "       [1.],\n",
       "       [1.],\n",
       "       [1.],\n",
       "       [1.],\n",
       "       [1.],\n",
       "       [1.],\n",
       "       [1.],\n",
       "       [1.],\n",
       "       [1.],\n",
       "       [1.],\n",
       "       [1.],\n",
       "       [1.],\n",
       "       [1.],\n",
       "       [1.],\n",
       "       [1.],\n",
       "       [1.],\n",
       "       [1.],\n",
       "       [1.],\n",
       "       [1.],\n",
       "       [1.],\n",
       "       [1.],\n",
       "       [1.],\n",
       "       [1.],\n",
       "       [1.],\n",
       "       [1.],\n",
       "       [1.],\n",
       "       [1.],\n",
       "       [1.],\n",
       "       [1.],\n",
       "       [1.],\n",
       "       [1.],\n",
       "       [1.],\n",
       "       [1.],\n",
       "       [1.],\n",
       "       [1.],\n",
       "       [1.],\n",
       "       [1.],\n",
       "       [1.],\n",
       "       [1.],\n",
       "       [1.],\n",
       "       [1.],\n",
       "       [1.],\n",
       "       [1.],\n",
       "       [1.],\n",
       "       [1.],\n",
       "       [1.],\n",
       "       [1.],\n",
       "       [1.],\n",
       "       [1.],\n",
       "       [1.],\n",
       "       [1.],\n",
       "       [1.],\n",
       "       [1.],\n",
       "       [1.],\n",
       "       [1.],\n",
       "       [1.],\n",
       "       [1.],\n",
       "       [1.],\n",
       "       [1.],\n",
       "       [1.],\n",
       "       [1.],\n",
       "       [1.],\n",
       "       [1.],\n",
       "       [1.],\n",
       "       [1.]])"
      ]
     },
     "execution_count": 8,
     "metadata": {},
     "output_type": "execute_result"
    }
   ],
   "source": [
    "np.ones(((x.shape[0]), 1))"
   ]
  },
  {
   "cell_type": "code",
   "execution_count": 9,
   "metadata": {},
   "outputs": [
    {
     "name": "stdout",
     "output_type": "stream",
     "text": [
      "[[ 0.82266697  0.92521232  1.        ]\n",
      " [ 1.22052085 -1.04813816  1.        ]\n",
      " [ 0.5432566  -0.0324391   1.        ]\n",
      " [ 0.46328229  0.59957349  1.        ]\n",
      " [-0.5741372   0.06814506  1.        ]\n",
      " [ 1.01462254  0.46494738  1.        ]\n",
      " [ 1.24274654  0.98182291  1.        ]\n",
      " [ 1.71053086  0.92638709  1.        ]\n",
      " [ 0.55320153  1.7665069   1.        ]\n",
      " [-1.24514936  1.99755016  1.        ]\n",
      " [-1.98016746 -0.68011582  1.        ]\n",
      " [ 0.83130363  0.38909704  1.        ]\n",
      " [ 2.34810385  2.17903571  1.        ]\n",
      " [ 0.51771049  0.1892333   1.        ]\n",
      " [ 1.97408382 -0.4141402   1.        ]\n",
      " [-1.62197851 -0.30796074  1.        ]\n",
      " [ 0.28452302 -0.24752517  1.        ]\n",
      " [-0.69843156 -1.51935805  1.        ]\n",
      " [ 1.23471765 -0.44455038  1.        ]\n",
      " [ 1.87489549  0.26273258  1.        ]\n",
      " [-0.94687918  1.11691824  1.        ]\n",
      " [ 1.07179554  0.11039347  1.        ]\n",
      " [ 0.15303837  2.14543246  1.        ]\n",
      " [ 0.06447707  0.00906061  1.        ]\n",
      " [-0.13986023 -0.85258145  1.        ]\n",
      " [-1.18501811 -0.79533572  1.        ]\n",
      " [ 0.51210654 -0.69685757  1.        ]\n",
      " [ 1.44096519 -1.47563104  1.        ]\n",
      " [-2.01182374 -0.01712631  1.        ]\n",
      " [-1.01515262  0.50348354  1.        ]\n",
      " [-0.35587527  0.69839693  1.        ]\n",
      " [-1.8767428   1.22486175  1.        ]\n",
      " [ 2.10559276  0.23968665  1.        ]\n",
      " [-1.33828682  1.88206943  1.        ]\n",
      " [-0.0107664   0.10562093  1.        ]\n",
      " [-0.44745243 -0.06275235  1.        ]\n",
      " [ 0.65557457  0.20729702  1.        ]\n",
      " [ 0.97303278 -0.01303467  1.        ]\n",
      " [ 0.48961615 -1.06472799  1.        ]\n",
      " [ 0.95647478 -0.57468075  1.        ]\n",
      " [ 0.98259379  0.72098109  1.        ]\n",
      " [-0.44296359  0.60717047  1.        ]\n",
      " [-1.14732441 -1.39346869  1.        ]\n",
      " [ 1.60795766  1.05349187  1.        ]\n",
      " [ 0.92460173 -0.96640334  1.        ]\n",
      " [-0.41641833  1.32627102  1.        ]\n",
      " [ 0.45685811 -2.30940231  1.        ]\n",
      " [-0.96136083  0.85414788  1.        ]\n",
      " [-1.18161142 -0.86920756  1.        ]\n",
      " [ 0.98478807 -1.07829157  1.        ]\n",
      " [ 0.4096595  -1.3527856   1.        ]\n",
      " [-0.30054287  0.14347299  1.        ]\n",
      " [ 0.40041668 -1.08153011  1.        ]\n",
      " [ 0.38456175  1.01468529  1.        ]\n",
      " [-0.62422998 -2.03464149  1.        ]\n",
      " [ 0.22782488 -0.24149064  1.        ]\n",
      " [ 0.93626304 -1.31064114  1.        ]\n",
      " [-0.05413443  0.63173235  1.        ]\n",
      " [-0.68932815 -0.48006655  1.        ]\n",
      " [ 0.12630674  0.47592228  1.        ]\n",
      " [ 1.41500272 -1.44063764  1.        ]\n",
      " [-0.79630672  0.79327782  1.        ]\n",
      " [ 0.08848695 -0.09587908  1.        ]\n",
      " [ 0.32867484 -0.10404832  1.        ]\n",
      " [ 0.04360058  0.08870244  1.        ]\n",
      " [ 0.17074098 -0.08076004  1.        ]\n",
      " [-0.97749254 -0.12190706  1.        ]\n",
      " [ 1.54684232  0.24957774  1.        ]\n",
      " [-0.0446911  -1.74770762  1.        ]\n",
      " [-1.15773865 -0.86984976  1.        ]\n",
      " [ 0.24545686 -0.21621895  1.        ]\n",
      " [ 0.07658267 -1.27831449  1.        ]\n",
      " [-2.30070215  0.10005387  1.        ]\n",
      " [-0.35554018 -0.80917683  1.        ]\n",
      " [-0.21014304  0.0472709   1.        ]\n",
      " [ 0.53725753  0.77646149  1.        ]\n",
      " [ 0.0110341   2.24409889  1.        ]\n",
      " [-0.04045546 -0.36303719  1.        ]\n",
      " [-0.48603699 -0.742872    1.        ]\n",
      " [-2.08255765 -0.29018192  1.        ]\n",
      " [-0.51586494 -0.32572588  1.        ]\n",
      " [ 1.60579754  0.16203102  1.        ]\n",
      " [ 1.2395213  -0.84060707  1.        ]\n",
      " [ 0.60412788 -1.08919343  1.        ]\n",
      " [ 0.80932708 -0.60618136  1.        ]\n",
      " [ 0.47864817 -0.33266731  1.        ]\n",
      " [ 2.55314249  1.05824116  1.        ]\n",
      " [-0.65972712 -1.03669936  1.        ]\n",
      " [-1.36636801 -1.37683022  1.        ]\n",
      " [ 0.65480303  0.21098956  1.        ]\n",
      " [-0.53200699  1.32340063  1.        ]\n",
      " [ 0.31171976 -1.22242888  1.        ]\n",
      " [ 1.25406957 -0.06899513  1.        ]\n",
      " [ 0.78628261  0.4792107   1.        ]\n",
      " [ 1.41698155  0.32503058  1.        ]\n",
      " [ 0.30166113 -2.0538586   1.        ]\n",
      " [-0.45946572  0.32510102  1.        ]\n",
      " [-0.9197016   0.06276094  1.        ]\n",
      " [-0.70008881 -0.2881363   1.        ]\n",
      " [-0.98147989  0.28851719  1.        ]]\n"
     ]
    }
   ],
   "source": [
    "X = np.concatenate((x, np.ones(((x.shape[0]), 1))), axis=1)\n",
    "X.shape\n",
    "print(X)"
   ]
  },
  {
   "cell_type": "code",
   "execution_count": 10,
   "metadata": {},
   "outputs": [
    {
     "data": {
      "text/plain": [
       "<matplotlib.collections.PathCollection at 0x29f48a40bf0>"
      ]
     },
     "execution_count": 10,
     "metadata": {},
     "output_type": "execute_result"
    },
    {
     "data": {
      "image/png": "[encoded data removed]",
      "text/plain": [
       "<Figure size 640x480 with 1 Axes>"
      ]
     },
     "metadata": {},
     "output_type": "display_data"
    }
   ],
   "source": [
    "plt.scatter(x[:,0], y)\n",
    "plt.scatter(X[:,0], model(X, theta), c='r')"
   ]
  },
  {
   "cell_type": "code",
   "execution_count": 11,
   "metadata": {},
   "outputs": [],
   "source": [
    "def function_cout(X, theta, y):\n",
    "    m = len(y)\n",
    "    return (1/2*m) * np.sum((model(X, theta) - y)**2)"
   ]
  },
  {
   "cell_type": "code",
   "execution_count": 12,
   "metadata": {},
   "outputs": [
    {
     "data": {
      "text/plain": [
       "2865298.424082362"
      ]
     },
     "execution_count": 12,
     "metadata": {},
     "output_type": "execute_result"
    }
   ],
   "source": [
    "function_cout(X, theta, y)"
   ]
  },
  {
   "cell_type": "code",
   "execution_count": 13,
   "metadata": {},
   "outputs": [],
   "source": [
    "#  gradient \n",
    "def grad(X, theta, y):\n",
    "    m = len(y)\n",
    "    return 1/m * X.T.dot(model(X, theta) - y)"
   ]
  },
  {
   "cell_type": "code",
   "execution_count": 14,
   "metadata": {},
   "outputs": [
    {
     "data": {
      "text/plain": [
       "array([[-22.17565764],\n",
       "       [ -1.85404506],\n",
       "       [ -3.78629215]])"
      ]
     },
     "execution_count": 14,
     "metadata": {},
     "output_type": "execute_result"
    }
   ],
   "source": [
    "grad(X, theta, y)"
   ]
  },
  {
   "cell_type": "code",
   "execution_count": 15,
   "metadata": {},
   "outputs": [],
   "source": [
    "def gradient_descente(X, y, theta, learning_rate=0.01, n_iter=1000):\n",
    "    history_cout = np.zeros(n_iter)\n",
    "    for i in range(0, n_iter):\n",
    "        theta = theta - learning_rate * grad(X, theta, y)\n",
    "        history_cout[i] = function_cout(X, theta, y)\n",
    "    return theta, history_cout\n"
   ]
  },
  {
   "cell_type": "code",
   "execution_count": 16,
   "metadata": {},
   "outputs": [],
   "source": [
    "theta_final, history_cout = gradient_descente(X, y, theta)"
   ]
  },
  {
   "cell_type": "code",
   "execution_count": 17,
   "metadata": {},
   "outputs": [
    {
     "name": "stdout",
     "output_type": "stream",
     "text": [
      "[[22.46672999]\n",
      " [ 2.5790326 ]\n",
      " [ 1.0115881 ]]\n"
     ]
    }
   ],
   "source": [
    "print(theta_final)"
   ]
  },
  {
   "cell_type": "code",
   "execution_count": 18,
   "metadata": {},
   "outputs": [
    {
     "data": {
      "text/plain": [
       "<matplotlib.legend.Legend at 0x29f48213b90>"
      ]
     },
     "execution_count": 18,
     "metadata": {},
     "output_type": "execute_result"
    },
    {
     "data": {
      "image/png": "[encoded data removed]",
      "text/plain": [
       "<Figure size 640x480 with 1 Axes>"
      ]
     },
     "metadata": {},
     "output_type": "display_data"
    }
   ],
   "source": [
    "plt.scatter(x[:,0], y, label='data')\n",
    "# plt.scatter(x[:,0], model(X, theta), c='r', label='theta initiale')\n",
    "plt.scatter(x[:,0], model(X, theta_final), c='g', label='theta final')\n",
    "plt.legend()"
   ]
  },
  {
   "cell_type": "code",
   "execution_count": 19,
   "metadata": {},
   "outputs": [
    {
     "data": {
      "text/plain": [
       "[<matplotlib.lines.Line2D at 0x29f48b0a390>]"
      ]
     },
     "execution_count": 19,
     "metadata": {},
     "output_type": "execute_result"
    },
    {
     "data": {
      "image/png": "[encoded data removed]",
      "text/plain": [
       "<Figure size 640x480 with 1 Axes>"
      ]
     },
     "metadata": {},
     "output_type": "display_data"
    }
   ],
   "source": [
    "plt.plot(range(1000), history_cout)"
   ]
  },
  {
   "cell_type": "code",
   "execution_count": 20,
   "metadata": {},
   "outputs": [],
   "source": [
    "def coef_determination(y, pred):\n",
    "    u = ((y - pred)**2).sum()\n",
    "    v = ((y - y.mean())**2).sum()\n",
    "    return 1 - u/v"
   ]
  },
  {
   "cell_type": "code",
   "execution_count": 21,
   "metadata": {},
   "outputs": [
    {
     "data": {
      "text/plain": [
       "0.8253808302044509"
      ]
     },
     "execution_count": 21,
     "metadata": {},
     "output_type": "execute_result"
    }
   ],
   "source": [
    "coef_determination(y, model(X, theta_final))"
   ]
  }
 ],
 "metadata": {
  "kernelspec": {
   "display_name": "base",
   "language": "python",
   "name": "python3"
  },
  "language_info": {
   "codemirror_mode": {
    "name": "ipython",
    "version": 3
   },
   "file_extension": ".py",
   "mimetype": "text/x-python",
   "name": "python",
   "nbconvert_exporter": "python",
   "pygments_lexer": "ipython3",
   "version": "3.12.7"
  }
 },
 "nbformat": 4,
 "nbformat_minor": 2
}
