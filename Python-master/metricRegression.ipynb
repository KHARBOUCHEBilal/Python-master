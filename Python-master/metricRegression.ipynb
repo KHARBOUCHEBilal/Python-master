{
 "cells": [
  {
   "cell_type": "code",
   "execution_count": 1,
   "metadata": {},
   "outputs": [],
   "source": [
    "import numpy as np\n",
    "import matplotlib.pyplot as plt\n",
    "from sklearn.metrics import *"
   ]
  },
  {
   "cell_type": "code",
   "execution_count": 8,
   "metadata": {},
   "outputs": [
    {
     "name": "stdout",
     "output_type": "stream",
     "text": [
      "y : [1 2]\n",
      "y_pred : [5 2]\n",
      "MAE : 2.0\n",
      "MSE 8.0\n",
      "RMSE 2.8284271247461903\n",
      "median_absolute_error 2.0\n"
     ]
    }
   ],
   "source": [
    "y = np.array([1, 2])\n",
    "y_pred = np.array([5, 2])\n",
    "\n",
    "print(\"y :\", y)\n",
    "print(\"y_pred :\", y_pred)\n",
    "\n",
    "print(\"MAE :\", mean_absolute_error(y, y_pred))\n",
    "print(\"MSE\", mean_squared_error(y, y_pred))\n",
    "print(\"RMSE\", np.sqrt(mean_squared_error(y, y_pred)))\n",
    "print(\"median_absolute_error\", median_absolute_error(y, y_pred))"
   ]
  },
  {
   "cell_type": "code",
   "execution_count": 18,
   "metadata": {},
   "outputs": [
    {
     "name": "stdout",
     "output_type": "stream",
     "text": [
      "0.7743246526421792\n"
     ]
    },
    {
     "data": {
      "text/plain": [
       "(array([38., 34., 31., 34., 24., 24., 35., 36., 27., 25., 31., 24., 16.,\n",
       "        21., 12., 18., 15., 17., 16.,  6., 12., 11., 11.,  4.,  8.,  3.,\n",
       "         7.,  2.,  3.,  2.,  3.,  1.,  1.,  2.,  4.,  2.,  2.,  2.,  2.,\n",
       "         0.,  1.,  0.,  0.,  0.,  1.,  0.,  0.,  0.,  0.,  1.]),\n",
       " array([2.62259195e-05, 1.64846884e-02, 3.29431509e-02, 4.94016134e-02,\n",
       "        6.58600759e-02, 8.23185384e-02, 9.87770009e-02, 1.15235463e-01,\n",
       "        1.31693926e-01, 1.48152388e-01, 1.64610851e-01, 1.81069313e-01,\n",
       "        1.97527776e-01, 2.13986238e-01, 2.30444701e-01, 2.46903163e-01,\n",
       "        2.63361626e-01, 2.79820088e-01, 2.96278551e-01, 3.12737013e-01,\n",
       "        3.29195476e-01, 3.45653938e-01, 3.62112401e-01, 3.78570863e-01,\n",
       "        3.95029326e-01, 4.11487788e-01, 4.27946251e-01, 4.44404713e-01,\n",
       "        4.60863176e-01, 4.77321638e-01, 4.93780101e-01, 5.10238563e-01,\n",
       "        5.26697026e-01, 5.43155488e-01, 5.59613951e-01, 5.76072413e-01,\n",
       "        5.92530876e-01, 6.08989338e-01, 6.25447801e-01, 6.41906263e-01,\n",
       "        6.58364725e-01, 6.74823188e-01, 6.91281650e-01, 7.07740113e-01,\n",
       "        7.24198575e-01, 7.40657038e-01, 7.57115500e-01, 7.73573963e-01,\n",
       "        7.90032425e-01, 8.06490888e-01, 8.22949350e-01]),\n",
       " <BarContainer object of 50 artists>)"
      ]
     },
     "execution_count": 18,
     "metadata": {},
     "output_type": "execute_result"
    },
    {
     "data": {
      "image/png": "[encoded data removed]",
      "text/plain": [
       "<Figure size 640x480 with 1 Axes>"
      ]
     },
     "metadata": {},
     "output_type": "display_data"
    }
   ],
   "source": [
    "from sklearn.datasets import load_breast_cancer\n",
    "from sklearn.linear_model import LinearRegression\n",
    "\n",
    "boston = load_breast_cancer()\n",
    "X = boston.data\n",
    "y = boston.target\n",
    "\n",
    "model = LinearRegression()\n",
    "model.fit(X, y)\n",
    "print(model.score(X, y))\n",
    "y_pred = model.predict(X)\n",
    "\n",
    "err_hist =  np.abs(y - y_pred)\n",
    "plt.hist(err_hist, bins=50)\n",
    "\n",
    "# plt.scatter(X[:,4], y, label='y')\n",
    "# plt.scatter(X[:,4], y_pred, label='y_pred')\n",
    "# plt.legend()"
   ]
  }
 ],
 "metadata": {
  "kernelspec": {
   "display_name": "base",
   "language": "python",
   "name": "python3"
  },
  "language_info": {
   "codemirror_mode": {
    "name": "ipython",
    "version": 3
   },
   "file_extension": ".py",
   "mimetype": "text/x-python",
   "name": "python",
   "nbconvert_exporter": "python",
   "pygments_lexer": "ipython3",
   "version": "3.12.7"
  }
 },
 "nbformat": 4,
 "nbformat_minor": 2
}
